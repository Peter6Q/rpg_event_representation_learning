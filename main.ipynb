{
 "cells": [
  {
   "cell_type": "markdown",
   "metadata": {},
   "source": [
    "## Top-level Global Var"
   ]
  },
  {
   "cell_type": "code",
   "execution_count": 1,
   "metadata": {},
   "outputs": [],
   "source": [
    "DEBUG = 8"
   ]
  },
  {
   "cell_type": "markdown",
   "metadata": {},
   "source": [
    "## Imports"
   ]
  },
  {
   "cell_type": "code",
   "execution_count": 2,
   "metadata": {},
   "outputs": [
    {
     "name": "stdout",
     "output_type": "stream",
     "text": [
      "Seed: 1586397777\n"
     ]
    }
   ],
   "source": [
    "import argparse\n",
    "%matplotlib inline\n",
    "import matplotlib.pyplot as plt \n",
    "import numpy as np\n",
    "import os\n",
    "from os.path import dirname\n",
    "import torch\n",
    "import torchvision\n",
    "# from torch.utils.tensorboard import SummaryWriter\n",
    "import tqdm\n",
    "\n",
    "if DEBUG>0:\n",
    "    from utils.models1 import Classifier\n",
    "else:\n",
    "    from utils.models import Classifier\n",
    "from utils.dataset import NCaltech101\n",
    "from utils.loader import Loader\n",
    "from utils.train_eval import train_one_epoch, eval_one_epoch\n",
    "\n",
    "if DEBUG>=8:\n",
    "    if DEBUG==9:\n",
    "        seed = 1586354275\n",
    "    else:\n",
    "        import time\n",
    "        seed = int( time.time())\n",
    "    print(\"Seed: %d\" % seed)\n",
    "    torch.manual_seed(seed)\n",
    "    np.random.seed(seed)"
   ]
  },
  {
   "cell_type": "code",
   "execution_count": 3,
   "metadata": {},
   "outputs": [],
   "source": [
    "class FLAGS:\n",
    "    validation_dataset = 'N-Caltech101/validation'\n",
    "    training_dataset = 'N-Caltech101/training'\n",
    "    log_dir = 'log/temp'\n",
    "    device = 'cuda'\n",
    "    num_workers = 0\n",
    "    pin_memory = True\n",
    "    batch_size = 8\n",
    "    num_epochs = 200\n",
    "    save_every_n_epochs = 5\n",
    "    def __init__(self):\n",
    "        self.device = 'cuda' if torch.cuda.is_available() else 'cpu'\n",
    "        print(f\"----------------------------\\n\"\n",
    "                  f\"Starting training with \\n\"\n",
    "                  f\"num_epochs: {self.num_epochs}\\n\"\n",
    "                  f\"batch_size: {self.batch_size}\\n\"\n",
    "                  f\"device: {self.device}\\n\"\n",
    "                  f\"log_dir: {self.log_dir}\\n\"\n",
    "                  f\"training_dataset: {self.training_dataset}\\n\"\n",
    "                  f\"validation_dataset: {self.validation_dataset}\\n\"\n",
    "                  f\"num_workers: {self.num_workers}\\n\"\n",
    "                  f\"pin_memory: {self.pin_memory}\\n\"\n",
    "                  f\"----------------------------\")"
   ]
  },
  {
   "cell_type": "code",
   "execution_count": 4,
   "metadata": {},
   "outputs": [
    {
     "name": "stdout",
     "output_type": "stream",
     "text": [
      "----------------------------\n",
      "Starting training with \n",
      "num_epochs: 200\n",
      "batch_size: 8\n",
      "device: cpu\n",
      "log_dir: log/temp\n",
      "training_dataset: N-Caltech101/training\n",
      "validation_dataset: N-Caltech101/validation\n",
      "num_workers: 0\n",
      "pin_memory: True\n",
      "----------------------------\n"
     ]
    }
   ],
   "source": [
    "flags = FLAGS()\n",
    "\n",
    "# datasets, add augmentation to training set\n",
    "training_dataset = NCaltech101(flags.training_dataset, augmentation=True)\n",
    "validation_dataset = NCaltech101(flags.validation_dataset)\n",
    "\n",
    "datasetClasses = training_dataset.getClasses()\n",
    "\n",
    "# construct loader, handles data streaming to gpu\n",
    "training_loader = Loader(training_dataset, flags, device=flags.device)\n",
    "validation_loader = Loader(validation_dataset, flags, device=flags.device)\n",
    "\n",
    "# model, and put to device\n",
    "model = Classifier(device=flags.device)\n",
    "model = model.to(flags.device)\n",
    "\n",
    "# optimizer and lr scheduler\n",
    "optimizerSelect = 'adam'\n",
    "if optimizerSelect == 'sgd':\n",
    "    optimizer = torch.optim.SGD(filter(lambda p: p.requires_grad, model.parameters()), lr=1e-4, momentum=0.9, weight_decay=1e-5)\n",
    "elif optimizerSelect == 'adam':\n",
    "    optimizer = torch.optim.Adam(model.parameters(), lr=1e-4)\n",
    "    lr_scheduler = torch.optim.lr_scheduler.ExponentialLR(optimizer, 0.5)"
   ]
  },
  {
   "cell_type": "code",
   "execution_count": 5,
   "metadata": {
    "scrolled": false
   },
   "outputs": [
    {
     "name": "stdout",
     "output_type": "stream",
     "text": [
      "tensor([86, 43, 61, 81,  5, 67,  3,  0])\n"
     ]
    },
    {
     "ename": "TypeError",
     "evalue": "Invalid dimensions for image data",
     "output_type": "error",
     "traceback": [
      "\u001b[1;31m---------------------------------------------------------------------------\u001b[0m",
      "\u001b[1;31mTypeError\u001b[0m                                 Traceback (most recent call last)",
      "\u001b[1;32m<ipython-input-5-2c823f570ef9>\u001b[0m in \u001b[0;36m<module>\u001b[1;34m\u001b[0m\n\u001b[0;32m     15\u001b[0m     \u001b[0max\u001b[0m\u001b[1;33m.\u001b[0m\u001b[0mappend\u001b[0m\u001b[1;33m(\u001b[0m \u001b[0mfig\u001b[0m\u001b[1;33m.\u001b[0m\u001b[0madd_subplot\u001b[0m\u001b[1;33m(\u001b[0m\u001b[0mrows\u001b[0m\u001b[1;33m,\u001b[0m \u001b[0mcolumns\u001b[0m\u001b[1;33m,\u001b[0m \u001b[0mi\u001b[0m\u001b[1;33m+\u001b[0m\u001b[1;36m1\u001b[0m\u001b[1;33m)\u001b[0m\u001b[1;33m)\u001b[0m\u001b[1;33m\u001b[0m\u001b[1;33m\u001b[0m\u001b[0m\n\u001b[0;32m     16\u001b[0m     \u001b[0max\u001b[0m\u001b[1;33m[\u001b[0m\u001b[1;33m-\u001b[0m\u001b[1;36m1\u001b[0m\u001b[1;33m]\u001b[0m\u001b[1;33m.\u001b[0m\u001b[0mset_title\u001b[0m\u001b[1;33m(\u001b[0m \u001b[0mdatasetClasses\u001b[0m\u001b[1;33m[\u001b[0m \u001b[0mlabels\u001b[0m\u001b[1;33m[\u001b[0m\u001b[0mi\u001b[0m\u001b[1;33m]\u001b[0m\u001b[1;33m.\u001b[0m\u001b[0mitem\u001b[0m\u001b[1;33m(\u001b[0m\u001b[1;33m)\u001b[0m\u001b[1;33m]\u001b[0m\u001b[1;33m)\u001b[0m\u001b[1;33m\u001b[0m\u001b[1;33m\u001b[0m\u001b[0m\n\u001b[1;32m---> 17\u001b[1;33m     \u001b[0mplt\u001b[0m\u001b[1;33m.\u001b[0m\u001b[0mimshow\u001b[0m\u001b[1;33m(\u001b[0m\u001b[0mpreprocessed\u001b[0m\u001b[1;33m[\u001b[0m\u001b[0mi\u001b[0m\u001b[1;33m]\u001b[0m\u001b[1;33m[\u001b[0m\u001b[1;36m0\u001b[0m\u001b[1;33m]\u001b[0m\u001b[1;33m,\u001b[0m \u001b[0mcmap\u001b[0m\u001b[1;33m=\u001b[0m\u001b[1;34m'gray'\u001b[0m\u001b[1;33m,\u001b[0m \u001b[0mvmin\u001b[0m\u001b[1;33m=\u001b[0m\u001b[1;36m0\u001b[0m\u001b[1;33m,\u001b[0m \u001b[0mvmax\u001b[0m\u001b[1;33m=\u001b[0m\u001b[1;36m1\u001b[0m\u001b[1;33m)\u001b[0m\u001b[1;33m\u001b[0m\u001b[1;33m\u001b[0m\u001b[0m\n\u001b[0m\u001b[0;32m     18\u001b[0m \u001b[0mplt\u001b[0m\u001b[1;33m.\u001b[0m\u001b[0mtight_layout\u001b[0m\u001b[1;33m(\u001b[0m\u001b[1;33m)\u001b[0m\u001b[1;33m\u001b[0m\u001b[1;33m\u001b[0m\u001b[0m\n\u001b[0;32m     19\u001b[0m \u001b[0mplt\u001b[0m\u001b[1;33m.\u001b[0m\u001b[0mshow\u001b[0m\u001b[1;33m(\u001b[0m\u001b[1;33m)\u001b[0m\u001b[1;33m\u001b[0m\u001b[1;33m\u001b[0m\u001b[0m\n",
      "\u001b[1;32mC:\\MySoftware\\Anaconda\\lib\\site-packages\\matplotlib\\pyplot.py\u001b[0m in \u001b[0;36mimshow\u001b[1;34m(X, cmap, norm, aspect, interpolation, alpha, vmin, vmax, origin, extent, shape, filternorm, filterrad, imlim, resample, url, data, **kwargs)\u001b[0m\n\u001b[0;32m   2699\u001b[0m         \u001b[0mfilternorm\u001b[0m\u001b[1;33m=\u001b[0m\u001b[0mfilternorm\u001b[0m\u001b[1;33m,\u001b[0m \u001b[0mfilterrad\u001b[0m\u001b[1;33m=\u001b[0m\u001b[0mfilterrad\u001b[0m\u001b[1;33m,\u001b[0m \u001b[0mimlim\u001b[0m\u001b[1;33m=\u001b[0m\u001b[0mimlim\u001b[0m\u001b[1;33m,\u001b[0m\u001b[1;33m\u001b[0m\u001b[1;33m\u001b[0m\u001b[0m\n\u001b[0;32m   2700\u001b[0m         resample=resample, url=url, **({\"data\": data} if data is not\n\u001b[1;32m-> 2701\u001b[1;33m         None else {}), **kwargs)\n\u001b[0m\u001b[0;32m   2702\u001b[0m     \u001b[0msci\u001b[0m\u001b[1;33m(\u001b[0m\u001b[0m__ret\u001b[0m\u001b[1;33m)\u001b[0m\u001b[1;33m\u001b[0m\u001b[1;33m\u001b[0m\u001b[0m\n\u001b[0;32m   2703\u001b[0m     \u001b[1;32mreturn\u001b[0m \u001b[0m__ret\u001b[0m\u001b[1;33m\u001b[0m\u001b[1;33m\u001b[0m\u001b[0m\n",
      "\u001b[1;32mC:\\MySoftware\\Anaconda\\lib\\site-packages\\matplotlib\\__init__.py\u001b[0m in \u001b[0;36minner\u001b[1;34m(ax, data, *args, **kwargs)\u001b[0m\n\u001b[0;32m   1808\u001b[0m                         \u001b[1;34m\"the Matplotlib list!)\"\u001b[0m \u001b[1;33m%\u001b[0m \u001b[1;33m(\u001b[0m\u001b[0mlabel_namer\u001b[0m\u001b[1;33m,\u001b[0m \u001b[0mfunc\u001b[0m\u001b[1;33m.\u001b[0m\u001b[0m__name__\u001b[0m\u001b[1;33m)\u001b[0m\u001b[1;33m,\u001b[0m\u001b[1;33m\u001b[0m\u001b[1;33m\u001b[0m\u001b[0m\n\u001b[0;32m   1809\u001b[0m                         RuntimeWarning, stacklevel=2)\n\u001b[1;32m-> 1810\u001b[1;33m             \u001b[1;32mreturn\u001b[0m \u001b[0mfunc\u001b[0m\u001b[1;33m(\u001b[0m\u001b[0max\u001b[0m\u001b[1;33m,\u001b[0m \u001b[1;33m*\u001b[0m\u001b[0margs\u001b[0m\u001b[1;33m,\u001b[0m \u001b[1;33m**\u001b[0m\u001b[0mkwargs\u001b[0m\u001b[1;33m)\u001b[0m\u001b[1;33m\u001b[0m\u001b[1;33m\u001b[0m\u001b[0m\n\u001b[0m\u001b[0;32m   1811\u001b[0m \u001b[1;33m\u001b[0m\u001b[0m\n\u001b[0;32m   1812\u001b[0m         inner.__doc__ = _add_data_doc(inner.__doc__,\n",
      "\u001b[1;32mC:\\MySoftware\\Anaconda\\lib\\site-packages\\matplotlib\\axes\\_axes.py\u001b[0m in \u001b[0;36mimshow\u001b[1;34m(self, X, cmap, norm, aspect, interpolation, alpha, vmin, vmax, origin, extent, shape, filternorm, filterrad, imlim, resample, url, **kwargs)\u001b[0m\n\u001b[0;32m   5492\u001b[0m                               resample=resample, **kwargs)\n\u001b[0;32m   5493\u001b[0m \u001b[1;33m\u001b[0m\u001b[0m\n\u001b[1;32m-> 5494\u001b[1;33m         \u001b[0mim\u001b[0m\u001b[1;33m.\u001b[0m\u001b[0mset_data\u001b[0m\u001b[1;33m(\u001b[0m\u001b[0mX\u001b[0m\u001b[1;33m)\u001b[0m\u001b[1;33m\u001b[0m\u001b[1;33m\u001b[0m\u001b[0m\n\u001b[0m\u001b[0;32m   5495\u001b[0m         \u001b[0mim\u001b[0m\u001b[1;33m.\u001b[0m\u001b[0mset_alpha\u001b[0m\u001b[1;33m(\u001b[0m\u001b[0malpha\u001b[0m\u001b[1;33m)\u001b[0m\u001b[1;33m\u001b[0m\u001b[1;33m\u001b[0m\u001b[0m\n\u001b[0;32m   5496\u001b[0m         \u001b[1;32mif\u001b[0m \u001b[0mim\u001b[0m\u001b[1;33m.\u001b[0m\u001b[0mget_clip_path\u001b[0m\u001b[1;33m(\u001b[0m\u001b[1;33m)\u001b[0m \u001b[1;32mis\u001b[0m \u001b[1;32mNone\u001b[0m\u001b[1;33m:\u001b[0m\u001b[1;33m\u001b[0m\u001b[1;33m\u001b[0m\u001b[0m\n",
      "\u001b[1;32mC:\\MySoftware\\Anaconda\\lib\\site-packages\\matplotlib\\image.py\u001b[0m in \u001b[0;36mset_data\u001b[1;34m(self, A)\u001b[0m\n\u001b[0;32m    644\u001b[0m         if not (self._A.ndim == 2\n\u001b[0;32m    645\u001b[0m                 or self._A.ndim == 3 and self._A.shape[-1] in [3, 4]):\n\u001b[1;32m--> 646\u001b[1;33m             \u001b[1;32mraise\u001b[0m \u001b[0mTypeError\u001b[0m\u001b[1;33m(\u001b[0m\u001b[1;34m\"Invalid dimensions for image data\"\u001b[0m\u001b[1;33m)\u001b[0m\u001b[1;33m\u001b[0m\u001b[1;33m\u001b[0m\u001b[0m\n\u001b[0m\u001b[0;32m    647\u001b[0m \u001b[1;33m\u001b[0m\u001b[0m\n\u001b[0;32m    648\u001b[0m         \u001b[1;32mif\u001b[0m \u001b[0mself\u001b[0m\u001b[1;33m.\u001b[0m\u001b[0m_A\u001b[0m\u001b[1;33m.\u001b[0m\u001b[0mndim\u001b[0m \u001b[1;33m==\u001b[0m \u001b[1;36m3\u001b[0m\u001b[1;33m:\u001b[0m\u001b[1;33m\u001b[0m\u001b[1;33m\u001b[0m\u001b[0m\n",
      "\u001b[1;31mTypeError\u001b[0m: Invalid dimensions for image data"
     ]
    },
    {
     "data": {
      "image/png": "[encoded data removed]",
      "text/plain": [
       "<Figure size 1296x2592 with 1 Axes>"
      ]
     },
     "metadata": {
      "needs_background": "light"
     },
     "output_type": "display_data"
    }
   ],
   "source": [
    "\"\"\" Visualization of training set \"\"\"\n",
    "itr = iter(training_loader)\n",
    "events, labels = next(itr)\n",
    "model.setMode(0)\n",
    "preprocessed = model.quantization_layer.forward(events)\n",
    "preprocessed = preprocessed.cpu().numpy()\n",
    "\n",
    "print(labels)\n",
    "\n",
    "fig = plt.figure(figsize=(18, 36))\n",
    "ax = []\n",
    "rows = 8\n",
    "columns = 1\n",
    "for i in range(rows * columns):\n",
    "    ax.append( fig.add_subplot(rows, columns, i+1))\n",
    "    ax[-1].set_title( datasetClasses[ labels[i].item()])\n",
    "    plt.imshow(preprocessed[i][0], cmap='gray', vmin=0, vmax=1)\n",
    "plt.tight_layout()\n",
    "plt.show()"
   ]
  },
  {
   "cell_type": "code",
   "execution_count": null,
   "metadata": {
    "scrolled": false
   },
   "outputs": [],
   "source": [
    "\"\"\" Visualization of validation set \"\"\"\n",
    "itr = iter(validation_loader)\n",
    "events, labels = next(itr)\n",
    "model.setMode(1)\n",
    "preprocessed = model.quantization_layer.forward(events)\n",
    "preprocessed = preprocessed.cpu().numpy()\n",
    "\n",
    "print(labels)\n",
    "\n",
    "fig = plt.figure(figsize=(18, 36))\n",
    "ax = []\n",
    "rows = 8\n",
    "columns = 1\n",
    "for i in range(rows * columns):\n",
    "    ax.append( fig.add_subplot(rows, columns, i+1))\n",
    "    ax[-1].set_title( datasetClasses[ labels[i].item()])\n",
    "    plt.imshow(preprocessed[i][0], cmap='gray', vmin=0, vmax=1)\n",
    "plt.tight_layout()\n",
    "plt.show()"
   ]
  },
  {
   "cell_type": "code",
   "execution_count": null,
   "metadata": {},
   "outputs": [
    {
     "name": "stdout",
     "output_type": "stream",
     "text": [
      "Training step [  0/200]\n"
     ]
    },
    {
     "name": "stderr",
     "output_type": "stream",
     "text": [
      "  7%|█████▌                                                                         | 38/545 [07:19<1:38:20, 11.64s/it]"
     ]
    }
   ],
   "source": [
    "iteration = 0\n",
    "min_validation_loss = 1000\n",
    "\n",
    "for i in range(flags.num_epochs):\n",
    "\n",
    "    print(f\"Training step [{i:3d}/{flags.num_epochs:3d}]\")\n",
    "    model = model.train()\n",
    "    model.setMode(0)\n",
    "    training_loss, training_accuracy, iteration = train_one_epoch(model, flags.device, optimizer, training_loader, iteration)\n",
    "    print(f\"Training Iteration {iteration:5d}  Loss {training_loss:.4f}  Accuracy {training_accuracy:.4f}\")\n",
    "\n",
    "    if i%10 == 9:\n",
    "        if optimizerSelect == 'adam':\n",
    "            lr_scheduler.step()\n",
    "\n",
    "    if i%1 == 0:\n",
    "        print(f\"Validation step [{i:3d}/{flags.num_epochs:3d}]\")\n",
    "        model = model.eval()\n",
    "        model.setMode(1)\n",
    "        validation_loss, validation_accuracy = eval_one_epoch(model, flags.device, validation_loader)\n",
    "        print(f\"Validation Loss {validation_loss:.4f}  Accuracy {validation_accuracy:.4f}\")\n",
    "\n",
    "        if validation_loss < min_validation_loss:\n",
    "            min_validation_loss = validation_loss\n",
    "            state_dict = model.state_dict()\n",
    "            torch.save({\n",
    "                \"state_dict\": state_dict,\n",
    "                \"min_val_loss\": min_validation_loss,\n",
    "                \"iteration\": iteration\n",
    "            }, \"log/model_best.pth\")\n",
    "            print(\"New best at \", validation_loss)\n",
    "        if i % flags.save_every_n_epochs == 0:\n",
    "            state_dict = model.state_dict()\n",
    "            torch.save({\n",
    "                \"state_dict\": state_dict,\n",
    "                \"min_val_loss\": min_validation_loss,\n",
    "                \"iteration\": iteration\n",
    "            }, \"log/checkpoint_%05d_%.4f.pth\" % (iteration, min_validation_loss))"
   ]
  },
  {
   "cell_type": "code",
   "execution_count": null,
   "metadata": {},
   "outputs": [],
   "source": []
  }
 ],
 "metadata": {
  "kernelspec": {
   "display_name": "Python 3",
   "language": "python",
   "name": "python3"
  },
  "language_info": {
   "codemirror_mode": {
    "name": "ipython",
    "version": 3
   },
   "file_extension": ".py",
   "mimetype": "text/x-python",
   "name": "python",
   "nbconvert_exporter": "python",
   "pygments_lexer": "ipython3",
   "version": "3.7.1"
  }
 },
 "nbformat": 4,
 "nbformat_minor": 2
}
